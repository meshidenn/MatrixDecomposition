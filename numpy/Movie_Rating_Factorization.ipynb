{
 "cells": [
  {
   "cell_type": "code",
   "execution_count": 2,
   "metadata": {},
   "outputs": [],
   "source": [
    "import pandas as pd\n",
    "import numpy as np\n",
    "import scipy as sp\n",
    "from sklearn import decomposition as dp\n",
    "import matplotlib.pyplot as plt"
   ]
  },
  {
   "cell_type": "code",
   "execution_count": 27,
   "metadata": {},
   "outputs": [
    {
     "data": {
      "text/html": [
       "<div>\n",
       "<style scoped>\n",
       "    .dataframe tbody tr th:only-of-type {\n",
       "        vertical-align: middle;\n",
       "    }\n",
       "\n",
       "    .dataframe tbody tr th {\n",
       "        vertical-align: top;\n",
       "    }\n",
       "\n",
       "    .dataframe thead th {\n",
       "        text-align: right;\n",
       "    }\n",
       "</style>\n",
       "<table border=\"1\" class=\"dataframe\">\n",
       "  <thead>\n",
       "    <tr style=\"text-align: right;\">\n",
       "      <th></th>\n",
       "      <th>userId</th>\n",
       "      <th>movieId</th>\n",
       "      <th>rating</th>\n",
       "      <th>timestamp</th>\n",
       "    </tr>\n",
       "  </thead>\n",
       "  <tbody>\n",
       "    <tr>\n",
       "      <th>0</th>\n",
       "      <td>1</td>\n",
       "      <td>1</td>\n",
       "      <td>4.0</td>\n",
       "      <td>964982703</td>\n",
       "    </tr>\n",
       "    <tr>\n",
       "      <th>1</th>\n",
       "      <td>1</td>\n",
       "      <td>3</td>\n",
       "      <td>4.0</td>\n",
       "      <td>964981247</td>\n",
       "    </tr>\n",
       "    <tr>\n",
       "      <th>2</th>\n",
       "      <td>1</td>\n",
       "      <td>6</td>\n",
       "      <td>4.0</td>\n",
       "      <td>964982224</td>\n",
       "    </tr>\n",
       "    <tr>\n",
       "      <th>3</th>\n",
       "      <td>1</td>\n",
       "      <td>47</td>\n",
       "      <td>5.0</td>\n",
       "      <td>964983815</td>\n",
       "    </tr>\n",
       "    <tr>\n",
       "      <th>4</th>\n",
       "      <td>1</td>\n",
       "      <td>50</td>\n",
       "      <td>5.0</td>\n",
       "      <td>964982931</td>\n",
       "    </tr>\n",
       "  </tbody>\n",
       "</table>\n",
       "</div>"
      ],
      "text/plain": [
       "   userId  movieId  rating  timestamp\n",
       "0       1        1     4.0  964982703\n",
       "1       1        3     4.0  964981247\n",
       "2       1        6     4.0  964982224\n",
       "3       1       47     5.0  964983815\n",
       "4       1       50     5.0  964982931"
      ]
     },
     "execution_count": 27,
     "metadata": {},
     "output_type": "execute_result"
    }
   ],
   "source": [
    "df = pd.read_csv(\"/home/hiroki/data/ml-latest-small/ratings.csv\")\n",
    "df.head()"
   ]
  },
  {
   "cell_type": "code",
   "execution_count": 66,
   "metadata": {},
   "outputs": [],
   "source": [
    "row = np.max(np.unique(df['userId']))"
   ]
  },
  {
   "cell_type": "code",
   "execution_count": 67,
   "metadata": {},
   "outputs": [],
   "source": [
    "col = np.max(np.unique(df['movieId']))"
   ]
  },
  {
   "cell_type": "code",
   "execution_count": 68,
   "metadata": {},
   "outputs": [
    {
     "name": "stdout",
     "output_type": "stream",
     "text": [
      "(610, 193609)\n"
     ]
    }
   ],
   "source": [
    "print((row, col))"
   ]
  },
  {
   "cell_type": "code",
   "execution_count": 69,
   "metadata": {},
   "outputs": [
    {
     "data": {
      "text/plain": [
       "<610x193609 sparse matrix of type '<class 'numpy.float64'>'\n",
       "\twith 0 stored elements in LInked List format>"
      ]
     },
     "execution_count": 69,
     "metadata": {},
     "output_type": "execute_result"
    }
   ],
   "source": [
    "mat = sp.sparse.lil_matrix((row,col))\n",
    "mat"
   ]
  },
  {
   "cell_type": "code",
   "execution_count": 70,
   "metadata": {},
   "outputs": [
    {
     "data": {
      "text/plain": [
       "(610, 193609)"
      ]
     },
     "execution_count": 70,
     "metadata": {},
     "output_type": "execute_result"
    }
   ],
   "source": [
    "mat.shape"
   ]
  },
  {
   "cell_type": "code",
   "execution_count": 71,
   "metadata": {},
   "outputs": [],
   "source": [
    "for u, m, r in zip(df['userId'], df['movieId'], df['rating']):\n",
    "    mat[u-1,m-1]=r"
   ]
  },
  {
   "cell_type": "code",
   "execution_count": 72,
   "metadata": {},
   "outputs": [],
   "source": [
    "mat = mat.tocsc()"
   ]
  },
  {
   "cell_type": "code",
   "execution_count": 73,
   "metadata": {},
   "outputs": [
    {
     "name": "stdout",
     "output_type": "stream",
     "text": [
      "<class 'scipy.sparse.csc.csc_matrix'> <class 'scipy.sparse.csr.csr_matrix'>\n",
      "<class 'scipy.sparse.csc.csc_matrix'> <class 'scipy.sparse.csr.csr_matrix'>\n",
      "<class 'scipy.sparse.csc.csc_matrix'> <class 'scipy.sparse.csr.csr_matrix'>\n",
      "<class 'scipy.sparse.csc.csc_matrix'> <class 'scipy.sparse.csr.csr_matrix'>\n",
      "<class 'scipy.sparse.csc.csc_matrix'> <class 'scipy.sparse.csr.csr_matrix'>\n",
      "<class 'scipy.sparse.csc.csc_matrix'> <class 'scipy.sparse.csr.csr_matrix'>\n",
      "<class 'scipy.sparse.csc.csc_matrix'> <class 'scipy.sparse.csr.csr_matrix'>\n",
      "<class 'scipy.sparse.csc.csc_matrix'> <class 'scipy.sparse.csr.csr_matrix'>\n",
      "<class 'scipy.sparse.csc.csc_matrix'> <class 'scipy.sparse.csr.csr_matrix'>\n",
      "<class 'scipy.sparse.csc.csc_matrix'> <class 'scipy.sparse.csr.csr_matrix'>\n",
      "<class 'scipy.sparse.csc.csc_matrix'> <class 'scipy.sparse.csr.csr_matrix'>\n",
      "<class 'scipy.sparse.csc.csc_matrix'> <class 'scipy.sparse.csr.csr_matrix'>\n",
      "<class 'scipy.sparse.csc.csc_matrix'> <class 'scipy.sparse.csr.csr_matrix'>\n",
      "<class 'scipy.sparse.csc.csc_matrix'> <class 'scipy.sparse.csr.csr_matrix'>\n",
      "<class 'scipy.sparse.csc.csc_matrix'> <class 'scipy.sparse.csr.csr_matrix'>\n",
      "<class 'scipy.sparse.csc.csc_matrix'> <class 'scipy.sparse.csr.csr_matrix'>\n",
      "<class 'scipy.sparse.csc.csc_matrix'> <class 'scipy.sparse.csr.csr_matrix'>\n",
      "<class 'scipy.sparse.csc.csc_matrix'> <class 'scipy.sparse.csr.csr_matrix'>\n",
      "<class 'scipy.sparse.csc.csc_matrix'> <class 'scipy.sparse.csr.csr_matrix'>\n",
      "<class 'scipy.sparse.csc.csc_matrix'> <class 'scipy.sparse.csr.csr_matrix'>\n"
     ]
    }
   ],
   "source": [
    "res = []\n",
    "for i in range(10,201,10):\n",
    "    u, s, v_t = sp.sparse.linalg.svds(mat, k=i)\n",
    "    mat_l = sp.sparse.csc_matrix(np.dot(u,np.diag(s)))\n",
    "    mat_r = sp.sparse.csr_matrix(v_t)\n",
    "    print(type(mat_l), type(mat_r))\n",
    "    mat_hat = mat_l.dot(mat_r)\n",
    "    res.append(np.sum((mat - mat_hat).multiply(mat - mat_hat)))"
   ]
  },
  {
   "cell_type": "code",
   "execution_count": 74,
   "metadata": {},
   "outputs": [
    {
     "data": {
      "text/plain": [
       "[<matplotlib.lines.Line2D at 0x7f35b27524e0>]"
      ]
     },
     "execution_count": 74,
     "metadata": {},
     "output_type": "execute_result"
    },
    {
     "data": {
      "image/png": "[encoded data removed]",
      "text/plain": [
       "<Figure size 432x288 with 1 Axes>"
      ]
     },
     "metadata": {
      "needs_background": "light"
     },
     "output_type": "display_data"
    }
   ],
   "source": [
    "plt.plot(range(10,201,10), res)"
   ]
  },
  {
   "cell_type": "code",
   "execution_count": 78,
   "metadata": {},
   "outputs": [
    {
     "name": "stdout",
     "output_type": "stream",
     "text": [
      "[33624 42534 17298 44584 70932  8363 22352 62063 85526 80851] [226 287 110 297 452  56 150 410 554 509] [87231  2258  1484  1035  1551  2310  1072   271  1778   349]\n"
     ]
    },
    {
     "data": {
      "text/plain": [
       "matrix([[4.5, 0. , 0. , 0. , 0. , 0. , 0. , 0. , 0. , 0. ],\n",
       "        [0. , 2. , 4. , 3. , 4. , 3. , 4. , 0. , 0. , 0. ],\n",
       "        [0. , 0. , 3.5, 2. , 0. , 0. , 0. , 0. , 0. , 0. ],\n",
       "        [3.5, 0. , 0. , 3. , 0. , 0. , 0. , 0. , 2. , 0. ],\n",
       "        [0. , 0. , 4. , 5. , 3. , 0. , 0. , 0. , 0. , 0. ],\n",
       "        [0. , 0. , 0. , 4. , 1. , 4. , 0. , 3. , 0. , 0. ],\n",
       "        [0. , 0. , 0. , 0. , 0. , 0. , 4. , 0. , 0. , 0. ],\n",
       "        [0. , 0. , 0. , 0. , 0. , 0. , 0. , 2. , 0. , 4. ],\n",
       "        [0. , 4. , 0. , 4. , 0. , 0. , 0. , 0. , 3. , 0. ],\n",
       "        [0. , 0. , 0. , 4. , 0. , 0. , 0. , 0. , 0. , 0.5]])"
      ]
     },
     "execution_count": 78,
     "metadata": {},
     "output_type": "execute_result"
    }
   ],
   "source": [
    "n = len(df.index)\n",
    "indexes = np.random.choice(range(n), 10, replace=False)\n",
    "r_rows = df['userId'][indexes].values - 1\n",
    "r_cols = df['movieId'][indexes].values - 1\n",
    "Print(Indexes, r_rows, r_cols)\n",
    "mat[r_rows][:,r_cols].todense()"
   ]
  },
  {
   "cell_type": "code",
   "execution_count": 119,
   "metadata": {},
   "outputs": [],
   "source": [
    "def SGD_decomp(mat, k, batch_size, iter_num, lamb, nu):\n",
    "    row = mat.shape[0]\n",
    "    col = mat.shape[1]\n",
    "    U = (np.random.rand(row * k) - 0.5).reshape((row, k))\n",
    "    V = (np.random.rand(col * k) - 0.5).reshape((col, k))\n",
    "    for i in range(iter_num):\n",
    "        indexes = np.random.choice(range(n), batch_size, replace=False)\n",
    "        r_rows = df['userId'][indexes].values - 1\n",
    "        r_cols = df['movieId'][indexes].values - 1\n",
    "        d_mat = mat[r_rows][:,r_cols].todense()\n",
    "        U_prev = U[r_rows, :]\n",
    "        V_prev = V[r_cols, :]\n",
    "        U_grad = - np.dot(d_mat, V_prev) + np.dot(U_prev,\n",
    "                                                  (np.dot(V_prev.T, V_prev) + np.diag(lamb * np.ones(k))))\n",
    "        V_grad = - np.dot(d_mat.T, U_prev) + np.dot(V_prev, \n",
    "                                                    (np.dot(U_prev.T, U_prev) + np.diag(lamb * np.ones(k))))\n",
    "        U[r_rows, :] -= nu * U_grad\n",
    "        V[r_cols, :] -= nu * V_grad\n",
    "        \n",
    "    return U, V"
   ]
  },
  {
   "cell_type": "code",
   "execution_count": 120,
   "metadata": {},
   "outputs": [],
   "source": [
    "U, V = SGD_decomp(mat, 10, 20, 100, 10.0, 0.01)"
   ]
  },
  {
   "cell_type": "code",
   "execution_count": 121,
   "metadata": {},
   "outputs": [
    {
     "data": {
      "text/plain": [
       "-11.303566599612406"
      ]
     },
     "execution_count": 121,
     "metadata": {},
     "output_type": "execute_result"
    }
   ],
   "source": [
    "np.sum(U)"
   ]
  },
  {
   "cell_type": "code",
   "execution_count": 115,
   "metadata": {},
   "outputs": [
    {
     "name": "stdout",
     "output_type": "stream",
     "text": [
      "[[        nan         nan         nan ...         nan         nan\n",
      "          nan]\n",
      " [-1.13512738 -0.47918869 -1.4827663  ... -0.60424441 -0.32525095\n",
      "   0.38771811]\n",
      " [ 0.43982663 -0.34281385  0.49975988 ... -1.84947301 -1.49000862\n",
      "  -1.23129539]\n",
      " ...\n",
      " [        nan         nan         nan ...         nan         nan\n",
      "          nan]\n",
      " [        nan         nan         nan ...         nan         nan\n",
      "          nan]\n",
      " [        nan         nan         nan ...         nan         nan\n",
      "          nan]]\n"
     ]
    }
   ],
   "source": [
    "print(U)"
   ]
  },
  {
   "cell_type": "code",
   "execution_count": null,
   "metadata": {},
   "outputs": [],
   "source": []
  }
 ],
 "metadata": {
  "kernelspec": {
   "display_name": "Python 3",
   "language": "python",
   "name": "python3"
  },
  "language_info": {
   "codemirror_mode": {
    "name": "ipython",
    "version": 3
   },
   "file_extension": ".py",
   "mimetype": "text/x-python",
   "name": "python",
   "nbconvert_exporter": "python",
   "pygments_lexer": "ipython3",
   "version": "3.6.4"
  }
 },
 "nbformat": 4,
 "nbformat_minor": 2
}
